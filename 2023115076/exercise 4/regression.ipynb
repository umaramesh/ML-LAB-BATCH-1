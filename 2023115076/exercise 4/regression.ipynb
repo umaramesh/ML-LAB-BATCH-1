{
  "nbformat": 4,
  "nbformat_minor": 0,
  "metadata": {
    "colab": {
      "provenance": []
    },
    "kernelspec": {
      "name": "python3",
      "display_name": "Python 3"
    },
    "language_info": {
      "name": "python"
    }
  },
  "cells": [
    {
      "cell_type": "markdown",
      "source": [
        "**Title: Multiple , Polynomial and Logistic Regression and Regularization algorithms**\n",
        "Implement Logistic Regression with L1, L2, and ElasticNet regularisation, evaluate the model, and follow basic MLOps practices for reproducibility and scalability.\n",
        "age,sex,cp,trestbps,chol,fbs,restecg,thalach,exang,oldpeak,slope,ca,thal,target\n",
        "https://docs.google.com/document/d/1FJOqAmkURTvj_-mxKzo27n272kewPXjuIiKHM4ixL-Y/edit?usp=sharing\n",
        "Save this as heart_disease_v1.csv"
      ],
      "metadata": {
        "id": "wJ2wuzDBLIV5"
      }
    },
    {
      "cell_type": "code",
      "execution_count": 1,
      "metadata": {
        "colab": {
          "base_uri": "https://localhost:8080/"
        },
        "id": "fK2Ex7CvI7kq",
        "outputId": "7f4e44be-adbc-496b-ef04-43dc45cd9953"
      },
      "outputs": [
        {
          "output_type": "stream",
          "name": "stdout",
          "text": [
            "     age  sex  cp  trestbps  chol  fbs  restecg  thalach  exang  oldpeak  \\\n",
            "0     63    1   3       145   233    1        0      150      0      2.3   \n",
            "1     37    1   2       130   250    0        1      187      0      3.5   \n",
            "2     41    0   1       130   204    0        0      172      0      1.4   \n",
            "3     56    1   1       120   236    0        1      178      0      0.8   \n",
            "4     57    0   0       120   354    0        1      163      1      0.6   \n",
            "..   ...  ...  ..       ...   ...  ...      ...      ...    ...      ...   \n",
            "298   57    0   0       140   241    0        1      123      1      0.2   \n",
            "299   45    1   3       110   264    0        1      132      0      1.2   \n",
            "300   68    1   0       144   193    1        1      141      0      3.4   \n",
            "301   57    1   0       130   131    0        1      115      1      1.2   \n",
            "302   57    0   1       130   236    0        0      174      0      0.0   \n",
            "\n",
            "     slope  ca  thal  target  \n",
            "0        0   0     1       1  \n",
            "1        0   0     2       1  \n",
            "2        2   0     2       1  \n",
            "3        2   0     2       1  \n",
            "4        2   0     2       1  \n",
            "..     ...  ..   ...     ...  \n",
            "298      1   0     3       0  \n",
            "299      1   0     3       0  \n",
            "300      1   2     3       0  \n",
            "301      1   1     3       0  \n",
            "302      1   1     2       0  \n",
            "\n",
            "[303 rows x 14 columns]\n"
          ]
        }
      ],
      "source": [
        "import pandas as pd\n",
        "df_iris = pd.read_csv(\"heart.csv\")\n",
        "print(df_iris)"
      ]
    },
    {
      "cell_type": "code",
      "source": [
        "import pandas as pd\n",
        "import numpy as np\n",
        "from sklearn.model_selection import train_test_split, GridSearchCV\n",
        "from sklearn.linear_model import LogisticRegression\n",
        "from sklearn.metrics import classification_report, roc_auc_score\n",
        "import joblib\n",
        "\n",
        "df=pd.read_csv(\"heart.csv\")\n",
        "X = df.drop(\"target\", axis=1)\n",
        "y = df[\"target\"]\n",
        "\n",
        "X_train, X_test, y_train, y_test = train_test_split(\n",
        "    X, y, test_size=0.2, stratify=y, random_state=42\n",
        ")"
      ],
      "metadata": {
        "id": "fdnC0RGeLCMh"
      },
      "execution_count": 2,
      "outputs": []
    },
    {
      "cell_type": "code",
      "source": [
        "import pandas as pd\n",
        "import numpy as np\n",
        "from sklearn.model_selection import train_test_split, GridSearchCV\n",
        "from sklearn.linear_model import LogisticRegression\n",
        "from sklearn.metrics import classification_report, roc_auc_score\n",
        "import joblib\n",
        "\n",
        "df = pd.read_csv(\"heart.csv\")\n",
        "\n",
        "X = df.drop(\"target\", axis=1)\n",
        "y = df[\"target\"]\n",
        "\n",
        "X_train, X_test, y_train, y_test = train_test_split(\n",
        "    X, y, test_size=0.2, stratify=y, random_state=42\n",
        ")\n",
        "\n",
        "param_grid_C = {'C': [0.01, 0.1, 1, 10, 100]}\n",
        "param_grid_en = {'C': [0.01, 0.1, 1, 10], 'l1_ratio': [0.1, 0.5, 0.9]}\n",
        "\n",
        "l1 = LogisticRegression(penalty='l1', solver='liblinear', max_iter=1000, random_state=42)\n",
        "grid_l1 = GridSearchCV(l1, param_grid_C, scoring='roc_auc', cv=5)\n",
        "grid_l1.fit(X_train, y_train)\n",
        "\n",
        "l2 = LogisticRegression(penalty='l2', solver='lbfgs', max_iter=1000, random_state=42)\n",
        "grid_l2 = GridSearchCV(l2, param_grid_C, scoring='roc_auc', cv=5)\n",
        "grid_l2.fit(X_train, y_train)\n",
        "\n",
        "en = LogisticRegression(penalty='elasticnet', solver='saga', max_iter=5000, random_state=42)\n",
        "grid_en = GridSearchCV(en, param_grid_en, scoring='roc_auc', cv=5)\n",
        "grid_en.fit(X_train, y_train)\n",
        "\n",
        "def evaluate(name, model):\n",
        "    y_pred = model.predict(X_test)\n",
        "    y_prob = model.predict_proba(X_test)[:, 1]\n",
        "    print(f\"\\n=== {name} ===\")\n",
        "    print(\"Best Params:\", model.get_params())\n",
        "    print(classification_report(y_test, y_pred))\n",
        "    print(\"ROC-AUC:\", roc_auc_score(y_test, y_prob))\n",
        "\n",
        "evaluate(\"L1\", grid_l1.best_estimator_)\n",
        "evaluate(\"L2\", grid_l2.best_estimator_)\n",
        "evaluate(\"ElasticNet\", grid_en.best_estimator_)\n",
        "\n",
        "models = {\n",
        "    'L1': grid_l1.best_estimator_,\n",
        "    'L2': grid_l2.best_estimator_,\n",
        "    'ElasticNet': grid_en.best_estimator_\n",
        "}\n",
        "scores = {\n",
        "    name: roc_auc_score(y_test, model.predict_proba(X_test)[:, 1])\n",
        "    for name, model in models.items()\n",
        "}\n",
        "best_model_name = max(scores, key=scores.get)\n",
        "best_model = models[best_model_name]\n",
        "joblib.dump(best_model, f\"best_logistic_{best_model_name}.pkl\")\n",
        "\n",
        "print(f\"\\nBest model: {best_model_name} saved as best_logistic_{best_model_name}.pkl\")\n"
      ],
      "metadata": {
        "colab": {
          "base_uri": "https://localhost:8080/"
        },
        "id": "dlq0BhRGLXEQ",
        "outputId": "03619ae8-4e4a-49c9-da9d-86e9b83ec88e"
      },
      "execution_count": 3,
      "outputs": [
        {
          "output_type": "stream",
          "name": "stderr",
          "text": [
            "/usr/local/lib/python3.12/dist-packages/sklearn/linear_model/_logistic.py:465: ConvergenceWarning: lbfgs failed to converge (status=1):\n",
            "STOP: TOTAL NO. OF ITERATIONS REACHED LIMIT.\n",
            "\n",
            "Increase the number of iterations (max_iter) or scale the data as shown in:\n",
            "    https://scikit-learn.org/stable/modules/preprocessing.html\n",
            "Please also refer to the documentation for alternative solver options:\n",
            "    https://scikit-learn.org/stable/modules/linear_model.html#logistic-regression\n",
            "  n_iter_i = _check_optimize_result(\n",
            "/usr/local/lib/python3.12/dist-packages/sklearn/linear_model/_logistic.py:465: ConvergenceWarning: lbfgs failed to converge (status=1):\n",
            "STOP: TOTAL NO. OF ITERATIONS REACHED LIMIT.\n",
            "\n",
            "Increase the number of iterations (max_iter) or scale the data as shown in:\n",
            "    https://scikit-learn.org/stable/modules/preprocessing.html\n",
            "Please also refer to the documentation for alternative solver options:\n",
            "    https://scikit-learn.org/stable/modules/linear_model.html#logistic-regression\n",
            "  n_iter_i = _check_optimize_result(\n",
            "/usr/local/lib/python3.12/dist-packages/sklearn/linear_model/_logistic.py:465: ConvergenceWarning: lbfgs failed to converge (status=1):\n",
            "STOP: TOTAL NO. OF ITERATIONS REACHED LIMIT.\n",
            "\n",
            "Increase the number of iterations (max_iter) or scale the data as shown in:\n",
            "    https://scikit-learn.org/stable/modules/preprocessing.html\n",
            "Please also refer to the documentation for alternative solver options:\n",
            "    https://scikit-learn.org/stable/modules/linear_model.html#logistic-regression\n",
            "  n_iter_i = _check_optimize_result(\n",
            "/usr/local/lib/python3.12/dist-packages/sklearn/linear_model/_logistic.py:465: ConvergenceWarning: lbfgs failed to converge (status=1):\n",
            "STOP: TOTAL NO. OF ITERATIONS REACHED LIMIT.\n",
            "\n",
            "Increase the number of iterations (max_iter) or scale the data as shown in:\n",
            "    https://scikit-learn.org/stable/modules/preprocessing.html\n",
            "Please also refer to the documentation for alternative solver options:\n",
            "    https://scikit-learn.org/stable/modules/linear_model.html#logistic-regression\n",
            "  n_iter_i = _check_optimize_result(\n",
            "/usr/local/lib/python3.12/dist-packages/sklearn/linear_model/_logistic.py:465: ConvergenceWarning: lbfgs failed to converge (status=1):\n",
            "STOP: TOTAL NO. OF ITERATIONS REACHED LIMIT.\n",
            "\n",
            "Increase the number of iterations (max_iter) or scale the data as shown in:\n",
            "    https://scikit-learn.org/stable/modules/preprocessing.html\n",
            "Please also refer to the documentation for alternative solver options:\n",
            "    https://scikit-learn.org/stable/modules/linear_model.html#logistic-regression\n",
            "  n_iter_i = _check_optimize_result(\n",
            "/usr/local/lib/python3.12/dist-packages/sklearn/linear_model/_logistic.py:465: ConvergenceWarning: lbfgs failed to converge (status=1):\n",
            "STOP: TOTAL NO. OF ITERATIONS REACHED LIMIT.\n",
            "\n",
            "Increase the number of iterations (max_iter) or scale the data as shown in:\n",
            "    https://scikit-learn.org/stable/modules/preprocessing.html\n",
            "Please also refer to the documentation for alternative solver options:\n",
            "    https://scikit-learn.org/stable/modules/linear_model.html#logistic-regression\n",
            "  n_iter_i = _check_optimize_result(\n"
          ]
        },
        {
          "output_type": "stream",
          "name": "stdout",
          "text": [
            "\n",
            "=== L1 ===\n",
            "Best Params: {'C': 10, 'class_weight': None, 'dual': False, 'fit_intercept': True, 'intercept_scaling': 1, 'l1_ratio': None, 'max_iter': 1000, 'multi_class': 'deprecated', 'n_jobs': None, 'penalty': 'l1', 'random_state': 42, 'solver': 'liblinear', 'tol': 0.0001, 'verbose': 0, 'warm_start': False}\n",
            "              precision    recall  f1-score   support\n",
            "\n",
            "           0       0.86      0.68      0.76        28\n",
            "           1       0.77      0.91      0.83        33\n",
            "\n",
            "    accuracy                           0.80        61\n",
            "   macro avg       0.82      0.79      0.80        61\n",
            "weighted avg       0.81      0.80      0.80        61\n",
            "\n",
            "ROC-AUC: 0.8614718614718615\n",
            "\n",
            "=== L2 ===\n",
            "Best Params: {'C': 1, 'class_weight': None, 'dual': False, 'fit_intercept': True, 'intercept_scaling': 1, 'l1_ratio': None, 'max_iter': 1000, 'multi_class': 'deprecated', 'n_jobs': None, 'penalty': 'l2', 'random_state': 42, 'solver': 'lbfgs', 'tol': 0.0001, 'verbose': 0, 'warm_start': False}\n",
            "              precision    recall  f1-score   support\n",
            "\n",
            "           0       0.86      0.68      0.76        28\n",
            "           1       0.77      0.91      0.83        33\n",
            "\n",
            "    accuracy                           0.80        61\n",
            "   macro avg       0.82      0.79      0.80        61\n",
            "weighted avg       0.81      0.80      0.80        61\n",
            "\n",
            "ROC-AUC: 0.8647186147186147\n",
            "\n",
            "=== ElasticNet ===\n",
            "Best Params: {'C': 10, 'class_weight': None, 'dual': False, 'fit_intercept': True, 'intercept_scaling': 1, 'l1_ratio': 0.1, 'max_iter': 5000, 'multi_class': 'deprecated', 'n_jobs': None, 'penalty': 'elasticnet', 'random_state': 42, 'solver': 'saga', 'tol': 0.0001, 'verbose': 0, 'warm_start': False}\n",
            "              precision    recall  f1-score   support\n",
            "\n",
            "           0       0.86      0.64      0.73        28\n",
            "           1       0.75      0.91      0.82        33\n",
            "\n",
            "    accuracy                           0.79        61\n",
            "   macro avg       0.80      0.78      0.78        61\n",
            "weighted avg       0.80      0.79      0.78        61\n",
            "\n",
            "ROC-AUC: 0.8603896103896105\n",
            "\n",
            "Best model: L2 saved as best_logistic_L2.pkl\n"
          ]
        }
      ]
    },
    {
      "cell_type": "markdown",
      "source": [
        "Implement Polynomial Regression for predicting non-linear relationships between variables and integrate MLOps practices for reproducibility and model tracking\n",
        "\n",
        "Use student_scores_v1.csv\n",
        "\n",
        "https://docs.google.com/document/d/1FJOqAmkURTvj_-mxKzo27n272kewPXjuIiKHM4ixL-Y/edit?usp=sharing\n"
      ],
      "metadata": {
        "id": "wVkR6jbuLfxM"
      }
    },
    {
      "cell_type": "code",
      "source": [
        "import csv\n",
        "\n",
        "# The dataset with headers\n",
        "data = [\n",
        "    ['Hours_Studied', 'Score'],\n",
        "    [1.0, 10],\n",
        "    [2.0, 25],\n",
        "    [3.0, 35],\n",
        "    [4.0, 50],\n",
        "    [5.0, 65],\n",
        "    [6.0, 70],\n",
        "    [7.0, 85],\n",
        "    [8.0, 88],\n",
        "    [9.0, 94],\n",
        "    [10.0, 98]\n",
        "]\n",
        "\n",
        "# Define the filename\n",
        "filename = 'student_scores_v1.csv'\n",
        "\n",
        "# Write the data to the CSV file\n",
        "with open(filename, 'w', newline='') as f:\n",
        "    writer = csv.writer(f)\n",
        "    writer.writerows(data)\n",
        "\n",
        "print(f\"File '{filename}' created successfully.\")"
      ],
      "metadata": {
        "colab": {
          "base_uri": "https://localhost:8080/"
        },
        "id": "JKXcbLXoMtbc",
        "outputId": "7bf9c1bb-74cd-4574-9527-85167f51f4a1"
      },
      "execution_count": 4,
      "outputs": [
        {
          "output_type": "stream",
          "name": "stdout",
          "text": [
            "File 'student_scores_v1.csv' created successfully.\n"
          ]
        }
      ]
    },
    {
      "cell_type": "code",
      "source": [
        "import pandas as pd\n",
        "import numpy as np\n",
        "from sklearn.preprocessing import PolynomialFeatures\n",
        "from sklearn.linear_model import LinearRegression\n",
        "from sklearn.metrics import r2_score, mean_squared_error\n",
        "from sklearn.model_selection import train_test_split\n",
        "import matplotlib.pyplot as plt\n",
        "import joblib\n",
        "import os\n",
        "from datetime import datetime\n",
        "\n",
        "RANDOM_SEED = 42\n",
        "np.random.seed(RANDOM_SEED)\n",
        "\n",
        "df = pd.read_csv(\"student_scores_v1.csv\")\n",
        "X = df[[\"Hours_Studied\"]]\n",
        "y = df[\"Score\"]\n",
        "\n",
        "X_train, X_test, y_train, y_test = train_test_split(\n",
        "    X, y, test_size=0.2, random_state=RANDOM_SEED\n",
        ")\n",
        "\n",
        "degree = 2\n",
        "poly = PolynomialFeatures(degree=degree)\n",
        "X_train_poly = poly.fit_transform(X_train)\n",
        "X_test_poly = poly.transform(X_test)\n",
        "\n",
        "model = LinearRegression()\n",
        "model.fit(X_train_poly, y_train)\n",
        "y_pred = model.predict(X_test_poly)\n",
        "\n",
        "r2 = r2_score(y_test, y_pred)\n",
        "rmse = np.sqrt(mean_squared_error(y_test, y_pred))\n",
        "\n",
        "print(f\"Polynomial Degree: {degree}\")\n",
        "print(f\"R² Score: {r2:.4f}\")\n",
        "print(f\"RMSE: {rmse:.2f}\")\n",
        "\n",
        "timestamp = datetime.now().strftime(\"%Y%m%d_%H%M%S\")\n",
        "model_dir = \"saved_models\"\n",
        "os.makedirs(model_dir, exist_ok=True)\n",
        "model_filename = f\"{model_dir}/polyreg_degree{degree}_{timestamp}.pkl\"\n",
        "joblib.dump((poly, model), model_filename)\n",
        "print(f\"Model saved to {model_filename}\")\n",
        "\n",
        "X_all = np.linspace(0, 10, 100).reshape(-1, 1)\n",
        "X_all_poly = poly.transform(X_all)\n",
        "y_all_pred = model.predict(X_all_poly)\n",
        "\n",
        "plt.scatter(X, y, color='blue', label=\"Actual\")\n",
        "plt.plot(X_all, y_all_pred, color='red', label=f\"Polynomial Degree {degree}\")\n",
        "plt.xlabel(\"Hours Studied\")\n",
        "plt.ylabel(\"Score\")\n",
        "plt.title(\"Polynomial Regression Fit\")\n",
        "plt.legend()\n",
        "plt.grid(True)\n",
        "plt.show()\n"
      ],
      "metadata": {
        "colab": {
          "base_uri": "https://localhost:8080/",
          "height": 596
        },
        "id": "S9KE_UZ6Lg03",
        "outputId": "872ceb29-b334-4b1b-f0ca-f8745b8c3f49"
      },
      "execution_count": 5,
      "outputs": [
        {
          "output_type": "stream",
          "name": "stdout",
          "text": [
            "Polynomial Degree: 2\n",
            "R² Score: 0.9995\n",
            "RMSE: 0.79\n",
            "Model saved to saved_models/polyreg_degree2_20250909_155901.pkl\n"
          ]
        },
        {
          "output_type": "stream",
          "name": "stderr",
          "text": [
            "/usr/local/lib/python3.12/dist-packages/sklearn/utils/validation.py:2739: UserWarning: X does not have valid feature names, but PolynomialFeatures was fitted with feature names\n",
            "  warnings.warn(\n"
          ]
        },
        {
          "output_type": "display_data",
          "data": {
            "text/plain": [
              "<Figure size 640x480 with 1 Axes>"
            ],
            "image/png": "[encoded data removed]"
          },
          "metadata": {}
        }
      ]
    }
  ]
}