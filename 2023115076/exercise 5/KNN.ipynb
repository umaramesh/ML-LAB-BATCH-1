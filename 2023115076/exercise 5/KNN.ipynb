{
  "cells": [
    {
      "cell_type": "code",
      "execution_count": 9,
      "metadata": {
        "colab": {
          "base_uri": "https://localhost:8080/"
        },
        "id": "tU_6hA15NzoO",
        "outputId": "54215532-1026-4f73-f0d5-d2e6c0f2ee7a"
      },
      "outputs": [
        {
          "name": "stdout",
          "output_type": "stream",
          "text": [
            "predicted result for student: fail\n"
          ]
        }
      ],
      "source": [
        "from sklearn.neighbors import KNeighborsClassifier\n",
        "import numpy as np\n",
        "x=np.array([[10,7],[9,6],[7,8],[3,7]])\n",
        "y=np.array([\"pass\",\"pass\",\"fail\",\"fail\"])\n",
        "knn=KNeighborsClassifier(n_neighbors=3)\n",
        "knn.fit(x,y)\n",
        "test_point=np.array([[6,7]])\n",
        "prediction=knn.predict(test_point)\n",
        "print(\"predicted result for student:\",prediction[0])"
      ]
    },
    {
      "cell_type": "code",
      "execution_count": 10,
      "metadata": {
        "colab": {
          "base_uri": "https://localhost:8080/"
        },
        "id": "IvfbvGE4N3aW",
        "outputId": "0b66f458-f1ef-4a57-e821-8d64981e1f81"
      },
      "outputs": [
        {
          "name": "stdout",
          "output_type": "stream",
          "text": [
            "predicted price for 1800 sqft house: 72.5 lakhs\n"
          ]
        }
      ],
      "source": [
        "from sklearn.neighbors import KNeighborsRegressor\n",
        "import numpy as np\n",
        "x=np.array([[1000],[1500],[2000],[1500]])\n",
        "y=np.array([50,65,80,95])\n",
        "knn=KNeighborsRegressor(n_neighbors=2)\n",
        "knn.fit(x,y)\n",
        "test_point=np.array([[1800]])\n",
        "prediction=knn.predict(test_point)\n",
        "print(\"predicted price for 1800 sqft house:\",prediction[0],\"lakhs\")"
      ]
    },
    {
      "cell_type": "markdown",
      "metadata": {
        "id": "-Wp1YvZ6OAAC"
      },
      "source": [
        "Implement **K-Nearest Neighbors (KNN)** classification and its types, evaluate performance for different K values, and integrate basic MLOps steps for reproducibility and tracking.\n",
        "use the Iris dataset from sklearn.datasets (no external file needed)"
      ]
    },
    {
      "cell_type": "code",
      "execution_count": 11,
      "metadata": {
        "colab": {
          "base_uri": "https://localhost:8080/"
        },
        "id": "AdrEYTUON8vj",
        "outputId": "f402b2f4-b6bf-4ca5-fd9e-b4aad611d5af"
      },
      "outputs": [
        {
          "name": "stdout",
          "output_type": "stream",
          "text": [
            "Training KNN models...\n",
            "\n",
            "=== Best KNN Model ===\n",
            "Best Parameters: {'k': 20, 'weights': 'uniform'}\n",
            "Best Accuracy: 0.6813\n",
            "Best ROC-AUC: 0.7320\n"
          ]
        }
      ],
      "source": [
        "from sklearn.neighbors import KNeighborsClassifier\n",
        "from sklearn.model_selection import train_test_split\n",
        "from sklearn.metrics import accuracy_score, classification_report, roc_auc_score\n",
        "import pandas as pd\n",
        "import numpy as np\n",
        "import joblib\n",
        "import os\n",
        "from datetime import datetime\n",
        "\n",
        "RANDOM_STATE = 42\n",
        "np.random.seed(RANDOM_STATE)\n",
        "\n",
        "df = pd.read_csv(\"heart.csv\")\n",
        "\n",
        "X = df.drop(\"target\", axis=1)\n",
        "y = df[\"target\"]\n",
        "\n",
        "X_train, X_test, y_train, y_test = train_test_split(\n",
        "    X, y, test_size=0.3, stratify=y, random_state=RANDOM_STATE\n",
        ")\n",
        "\n",
        "k_values = range(1, 21)\n",
        "weight_types = ['uniform', 'distance']\n",
        "results = []\n",
        "\n",
        "best_accuracy = 0\n",
        "best_roc_auc = 0\n",
        "best_model = None\n",
        "best_params = {}\n",
        "\n",
        "print(\"Training KNN models...\")\n",
        "for weight in weight_types:\n",
        "    for k in k_values:\n",
        "        model = KNeighborsClassifier(n_neighbors=k, weights=weight)\n",
        "        model.fit(X_train, y_train)\n",
        "        y_pred = model.predict(X_test)\n",
        "        acc = accuracy_score(y_test, y_pred)\n",
        "\n",
        "        try:\n",
        "            y_prob = model.predict_proba(X_test)[:, 1]\n",
        "            roc_auc = roc_auc_score(y_test, y_prob)\n",
        "        except AttributeError:\n",
        "            roc_auc = np.nan\n",
        "\n",
        "        results.append({\n",
        "            'k': k,\n",
        "            'weights': weight,\n",
        "            'accuracy': acc,\n",
        "            'roc_auc': roc_auc\n",
        "        })\n",
        "\n",
        "        if roc_auc > best_roc_auc:\n",
        "            best_roc_auc = roc_auc\n",
        "            best_accuracy = acc\n",
        "            best_model = model\n",
        "            best_params = {'k': k, 'weights': weight}\n",
        "\n",
        "print(\"\\n=== Best KNN Model ===\")\n",
        "print(f\"Best Parameters: {best_params}\")\n",
        "print(f\"Best Accuracy: {best_accuracy:.4f}\")\n",
        "print(f\"Best ROC-AUC: {best_roc_auc:.4f}\")\n",
        "\n"
      ]
    },
    {
      "cell_type": "markdown",
      "metadata": {
        "id": "qr7mS3znOHrd"
      },
      "source": [
        "Implement **Weighted K-Nearest Neighbors (KNN)** classification and its types, evaluate performance for different K values, and integrate basic MLOps steps for reproducibility and tracking.\n",
        "use the Iris dataset from sklearn.datasets (no external file needed)"
      ]
    },
    {
      "cell_type": "code",
      "execution_count": 8,
      "metadata": {
        "colab": {
          "base_uri": "https://localhost:8080/"
        },
        "id": "u-t9kp4pN-yj",
        "outputId": "b9ecb89c-544a-444c-f9a6-c4e1e2bf3b14"
      },
      "outputs": [
        {
          "name": "stdout",
          "output_type": "stream",
          "text": [
            "Training Weighted KNN models...\n",
            "\n",
            "=== Best Weighted KNN Model ===\n",
            "Best Parameters: {'k': 20, 'weights': 'distance'}\n",
            "Best Accuracy: 0.6593\n",
            "Best ROC-AUC: 0.7146\n"
          ]
        }
      ],
      "source": [
        "from sklearn.neighbors import KNeighborsClassifier\n",
        "from sklearn.model_selection import train_test_split\n",
        "from sklearn.metrics import accuracy_score, classification_report, roc_auc_score\n",
        "import pandas as pd\n",
        "import numpy as np\n",
        "import joblib\n",
        "import os\n",
        "from datetime import datetime\n",
        "\n",
        "RANDOM_STATE = 42\n",
        "np.random.seed(RANDOM_STATE)\n",
        "\n",
        "df = pd.read_csv(\"heart.csv\")\n",
        "\n",
        "X = df.drop(\"target\", axis=1)\n",
        "y = df[\"target\"]\n",
        "\n",
        "X_train, X_test, y_train, y_test = train_test_split(\n",
        "    X, y, test_size=0.3, stratify=y, random_state=RANDOM_STATE\n",
        ")\n",
        "\n",
        "k_values = range(1, 21)\n",
        "results = []\n",
        "\n",
        "best_accuracy = 0\n",
        "best_roc_auc = 0\n",
        "best_model = None\n",
        "best_params = {}\n",
        "\n",
        "print(\"Training Weighted KNN models...\")\n",
        "for k in k_values:\n",
        "    model = KNeighborsClassifier(n_neighbors=k, weights='distance')\n",
        "    model.fit(X_train, y_train)\n",
        "    y_pred = model.predict(X_test)\n",
        "    acc = accuracy_score(y_test, y_pred)\n",
        "\n",
        "    try:\n",
        "        y_prob = model.predict_proba(X_test)[:, 1]\n",
        "        roc_auc = roc_auc_score(y_test, y_prob)\n",
        "    except AttributeError:\n",
        "        roc_auc = np.nan\n",
        "\n",
        "    results.append({\n",
        "        'k': k,\n",
        "        'weights': 'distance',\n",
        "        'accuracy': acc,\n",
        "        'roc_auc': roc_auc\n",
        "    })\n",
        "\n",
        "    if roc_auc > best_roc_auc:\n",
        "        best_roc_auc = roc_auc\n",
        "        best_accuracy = acc\n",
        "        best_model = model\n",
        "        best_params = {'k': k, 'weights': 'distance'}\n",
        "\n",
        "print(\"\\n=== Best Weighted KNN Model ===\")\n",
        "print(f\"Best Parameters: {best_params}\")\n",
        "print(f\"Best Accuracy: {best_accuracy:.4f}\")\n",
        "print(f\"Best ROC-AUC: {best_roc_auc:.4f}\")\n"
      ]
    }
  ],
  "metadata": {
    "colab": {
      "provenance": []
    },
    "kernelspec": {
      "display_name": "Python 3",
      "name": "python3"
    },
    "language_info": {
      "name": "python"
    }
  },
  "nbformat": 4,
  "nbformat_minor": 0
}
