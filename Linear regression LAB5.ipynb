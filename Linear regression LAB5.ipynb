{
 "cells": [
  {
   "cell_type": "code",
   "execution_count": 1,
   "id": "5a0bd8ec-afc5-43b0-938d-4e8effe3872a",
   "metadata": {},
   "outputs": [
    {
     "name": "stdout",
     "output_type": "stream",
     "text": [
      "janani\n"
     ]
    }
   ],
   "source": [
    "print(\"janani\")\n"
   ]
  },
  {
   "cell_type": "code",
   "execution_count": 8,
   "id": "b4088118-2cd5-4dcf-9ee9-5f6ce282369c",
   "metadata": {},
   "outputs": [
    {
     "ename": "ImportError",
     "evalue": "Unable to import required dependencies:\npytz: No module named 'pytz'",
     "output_type": "error",
     "traceback": [
      "\u001b[31m---------------------------------------------------------------------------\u001b[39m",
      "\u001b[31mImportError\u001b[39m                               Traceback (most recent call last)",
      "\u001b[36mCell\u001b[39m\u001b[36m \u001b[39m\u001b[32mIn[8]\u001b[39m\u001b[32m, line 1\u001b[39m\n\u001b[32m----> \u001b[39m\u001b[32m1\u001b[39m \u001b[38;5;28;01mimport\u001b[39;00m\u001b[38;5;250m \u001b[39m\u001b[34;01mpandas\u001b[39;00m\u001b[38;5;250m \u001b[39m\u001b[38;5;28;01mas\u001b[39;00m\u001b[38;5;250m \u001b[39m\u001b[34;01mpd\u001b[39;00m\n\u001b[32m      3\u001b[39m \u001b[38;5;66;03m# Load dataset\u001b[39;00m\n\u001b[32m      4\u001b[39m df = pd.read_csv(\u001b[33m\"\u001b[39m\u001b[33mheart_disease_v1.csv\u001b[39m\u001b[33m\"\u001b[39m)\n",
      "\u001b[36mFile \u001b[39m\u001b[32mC:\\Program Files\\Python\\Lib\\site-packages\\pandas\\__init__.py:32\u001b[39m\n\u001b[32m     29\u001b[39m         _missing_dependencies.append(\u001b[33mf\u001b[39m\u001b[33m\"\u001b[39m\u001b[38;5;132;01m{\u001b[39;00m_dependency\u001b[38;5;132;01m}\u001b[39;00m\u001b[33m: \u001b[39m\u001b[38;5;132;01m{\u001b[39;00m_e\u001b[38;5;132;01m}\u001b[39;00m\u001b[33m\"\u001b[39m)\n\u001b[32m     31\u001b[39m \u001b[38;5;28;01mif\u001b[39;00m _missing_dependencies:  \u001b[38;5;66;03m# pragma: no cover\u001b[39;00m\n\u001b[32m---> \u001b[39m\u001b[32m32\u001b[39m     \u001b[38;5;28;01mraise\u001b[39;00m \u001b[38;5;167;01mImportError\u001b[39;00m(\n\u001b[32m     33\u001b[39m         \u001b[33m\"\u001b[39m\u001b[33mUnable to import required dependencies:\u001b[39m\u001b[38;5;130;01m\\n\u001b[39;00m\u001b[33m\"\u001b[39m + \u001b[33m\"\u001b[39m\u001b[38;5;130;01m\\n\u001b[39;00m\u001b[33m\"\u001b[39m.join(_missing_dependencies)\n\u001b[32m     34\u001b[39m     )\n\u001b[32m     35\u001b[39m \u001b[38;5;28;01mdel\u001b[39;00m _hard_dependencies, _dependency, _missing_dependencies\n\u001b[32m     37\u001b[39m \u001b[38;5;28;01mtry\u001b[39;00m:\n\u001b[32m     38\u001b[39m     \u001b[38;5;66;03m# numpy compat\u001b[39;00m\n",
      "\u001b[31mImportError\u001b[39m: Unable to import required dependencies:\npytz: No module named 'pytz'"
     ]
    }
   ],
   "source": [
    "import pandas as pd\n",
    "\n",
    "# Load dataset\n",
    "df = pd.read_csv(\"heart_disease_v1.csv\")\n",
    "\n",
    "# Quick check\n",
    "print(df.head())\n",
    "print(df.shape)\n"
   ]
  },
  {
   "cell_type": "code",
   "execution_count": 9,
   "id": "59416ce8-6390-47b6-881a-75897765d848",
   "metadata": {},
   "outputs": [
    {
     "name": "stdout",
     "output_type": "stream",
     "text": [
      "Defaulting to user installation because normal site-packages is not writeable\n",
      "Requirement already satisfied: pandas in c:\\programdata\\anaconda3\\lib\\site-packages (2.2.2)\n",
      "Requirement already satisfied: pytz in c:\\programdata\\anaconda3\\lib\\site-packages (2024.1)\n",
      "Requirement already satisfied: numpy>=1.26.0 in c:\\programdata\\anaconda3\\lib\\site-packages (from pandas) (1.26.4)\n",
      "Requirement already satisfied: python-dateutil>=2.8.2 in c:\\programdata\\anaconda3\\lib\\site-packages (from pandas) (2.9.0.post0)\n",
      "Requirement already satisfied: tzdata>=2022.7 in c:\\programdata\\anaconda3\\lib\\site-packages (from pandas) (2023.3)\n",
      "Requirement already satisfied: six>=1.5 in c:\\programdata\\anaconda3\\lib\\site-packages (from python-dateutil>=2.8.2->pandas) (1.16.0)\n"
     ]
    }
   ],
   "source": [
    "!pip install pandas pytz\n"
   ]
  },
  {
   "cell_type": "code",
   "execution_count": 11,
   "id": "2c497908-4256-489c-8f31-a7edd08ff3c2",
   "metadata": {},
   "outputs": [
    {
     "name": "stdout",
     "output_type": "stream",
     "text": [
      "Defaulting to user installation because normal site-packages is not writeable\n",
      "Requirement already satisfied: pytz in c:\\programdata\\anaconda3\\lib\\site-packages (2024.1)\n",
      "Collecting pytz\n",
      "  Downloading pytz-2025.2-py2.py3-none-any.whl.metadata (22 kB)\n",
      "Downloading pytz-2025.2-py2.py3-none-any.whl (509 kB)\n",
      "Installing collected packages: pytz\n",
      "Successfully installed pytz-2025.2\n"
     ]
    }
   ],
   "source": [
    "!pip install pytz --upgrade\n"
   ]
  },
  {
   "cell_type": "code",
   "execution_count": 2,
   "id": "cb48cd94-de86-4ee9-a4fc-27d6d9da8af5",
   "metadata": {},
   "outputs": [
    {
     "name": "stdout",
     "output_type": "stream",
     "text": [
      "✅ Pandas: 2.2.3\n",
      "✅ NumPy: 2.1.3\n",
      "✅ Matplotlib: 3.10.1\n",
      "✅ scikit-learn: 1.7.1\n"
     ]
    }
   ],
   "source": [
    "import pandas as pd\n",
    "import numpy as np\n",
    "import matplotlib\n",
    "import sklearn\n",
    "\n",
    "print(\"✅ Pandas:\", pd.__version__)\n",
    "print(\"✅ NumPy:\", np.__version__)\n",
    "print(\"✅ Matplotlib:\", matplotlib.__version__)\n",
    "print(\"✅ scikit-learn:\", sklearn.__version__)\n"
   ]
  },
  {
   "cell_type": "code",
   "execution_count": 3,
   "id": "655e8316-e0b2-41e6-abca-d4c12ee11f8c",
   "metadata": {},
   "outputs": [
    {
     "name": "stdout",
     "output_type": "stream",
     "text": [
      "(10, 14)\n",
      "   age  sex  cp  trestbps  chol  fbs  restecg  thalach  exang  oldpeak  slope  \\\n",
      "0   63    1   3       145   233    1        0      150      0      2.3      0   \n",
      "1   37    1   2       130   250    0        1      187      0      3.5      0   \n",
      "2   41    0   1       130   204    0        0      172      0      1.4      2   \n",
      "3   56    1   1       120   236    0        1      178      0      0.8      2   \n",
      "4   57    0   0       120   354    0        1      163      1      0.6      2   \n",
      "\n",
      "   ca  thal  target  \n",
      "0   0     1       1  \n",
      "1   0     2       1  \n",
      "2   0     2       1  \n",
      "3   0     2       1  \n",
      "4   0     2       1  \n"
     ]
    }
   ],
   "source": [
    "import pandas as pd\n",
    "\n",
    "# Load dataset\n",
    "df = pd.read_csv(\"heart_disease_v1.csv\")\n",
    "\n",
    "# Quick check\n",
    "print(df.shape)\n",
    "print(df.head())\n"
   ]
  },
  {
   "cell_type": "code",
   "execution_count": 4,
   "id": "f86bdfa7-d953-4f8d-aa71-9316c7d56452",
   "metadata": {},
   "outputs": [
    {
     "name": "stdout",
     "output_type": "stream",
     "text": [
      "Dataset Shape: (10, 14)\n",
      "First 5 rows:\n",
      "   age  sex  cp  trestbps  chol  fbs  restecg  thalach  exang  oldpeak  slope  \\\n",
      "0   63    1   3       145   233    1        0      150      0      2.3      0   \n",
      "1   37    1   2       130   250    0        1      187      0      3.5      0   \n",
      "2   41    0   1       130   204    0        0      172      0      1.4      2   \n",
      "3   56    1   1       120   236    0        1      178      0      0.8      2   \n",
      "4   57    0   0       120   354    0        1      163      1      0.6      2   \n",
      "\n",
      "   ca  thal  target  \n",
      "0   0     1       1  \n",
      "1   0     2       1  \n",
      "2   0     2       1  \n",
      "3   0     2       1  \n",
      "4   0     2       1  \n",
      "\n",
      "🔹 Training L1 Logistic Regression...\n"
     ]
    },
    {
     "name": "stderr",
     "output_type": "stream",
     "text": [
      "C:\\Users\\student\\AppData\\Roaming\\Python\\Python311\\site-packages\\sklearn\\model_selection\\_split.py:811: UserWarning: The least populated class in y has only 2 members, which is less than n_splits=5.\n",
      "  warnings.warn(\n"
     ]
    },
    {
     "name": "stdout",
     "output_type": "stream",
     "text": [
      "\n",
      "🔹 Training L2 Logistic Regression...\n",
      "\n",
      "🔹 Training ElasticNet Logistic Regression...\n"
     ]
    },
    {
     "name": "stderr",
     "output_type": "stream",
     "text": [
      "C:\\Users\\student\\AppData\\Roaming\\Python\\Python311\\site-packages\\sklearn\\model_selection\\_split.py:811: UserWarning: The least populated class in y has only 2 members, which is less than n_splits=5.\n",
      "  warnings.warn(\n",
      "C:\\Users\\student\\AppData\\Roaming\\Python\\Python311\\site-packages\\sklearn\\model_selection\\_split.py:811: UserWarning: The least populated class in y has only 2 members, which is less than n_splits=5.\n",
      "  warnings.warn(\n"
     ]
    },
    {
     "name": "stdout",
     "output_type": "stream",
     "text": [
      "\n",
      "✅ Final Results:\n",
      "                            Best Params ROC-AUC F1-Score\n",
      "L1                             {'C': 1}     0.0      0.0\n",
      "L2                          {'C': 0.01}     0.0      0.0\n",
      "ElasticNet  {'C': 0.1, 'l1_ratio': 0.1}     0.0      0.0\n"
     ]
    }
   ],
   "source": [
    "# ========================================================\n",
    "# 1. Import Libraries\n",
    "# ========================================================\n",
    "import pandas as pd\n",
    "import numpy as np\n",
    "from sklearn.model_selection import train_test_split, GridSearchCV\n",
    "from sklearn.linear_model import LogisticRegression\n",
    "from sklearn.metrics import classification_report, roc_auc_score\n",
    "import joblib\n",
    "import os\n",
    "\n",
    "# ========================================================\n",
    "# 2. Load Dataset\n",
    "# ========================================================\n",
    "df = pd.read_csv(\"heart_disease_v1.csv\")\n",
    "\n",
    "print(\"Dataset Shape:\", df.shape)\n",
    "print(\"First 5 rows:\")\n",
    "print(df.head())\n",
    "\n",
    "# Features (X) and Target (y)\n",
    "X = df.drop(\"target\", axis=1)\n",
    "y = df[\"target\"]\n",
    "\n",
    "# Split into Train & Test\n",
    "X_train, X_test, y_train, y_test = train_test_split(\n",
    "    X, y, test_size=0.2, random_state=42, stratify=y\n",
    ")\n",
    "\n",
    "# ========================================================\n",
    "# 3. Logistic Regression with Regularization\n",
    "# ========================================================\n",
    "\n",
    "models = {\n",
    "    \"L1\": LogisticRegression(penalty=\"l1\", solver=\"saga\", max_iter=5000, random_state=42),\n",
    "    \"L2\": LogisticRegression(penalty=\"l2\", solver=\"saga\", max_iter=5000, random_state=42),\n",
    "    \"ElasticNet\": LogisticRegression(penalty=\"elasticnet\", solver=\"saga\", max_iter=5000, random_state=42)\n",
    "}\n",
    "\n",
    "# Hyperparameter grids\n",
    "param_grid = {\n",
    "    \"L1\": {\"C\": [0.01, 0.1, 1, 10]},\n",
    "    \"L2\": {\"C\": [0.01, 0.1, 1, 10]},\n",
    "    \"ElasticNet\": {\"C\": [0.01, 0.1, 1, 10], \"l1_ratio\": [0.1, 0.5, 0.9]}\n",
    "}\n",
    "\n",
    "# To store results\n",
    "results = {}\n",
    "\n",
    "# ========================================================\n",
    "# 4. Training & Evaluation\n",
    "# ========================================================\n",
    "for name, model in models.items():\n",
    "    print(f\"\\n🔹 Training {name} Logistic Regression...\")\n",
    "    grid = GridSearchCV(model, param_grid[name], cv=5, scoring=\"f1\", n_jobs=-1)\n",
    "    grid.fit(X_train, y_train)\n",
    "    \n",
    "    best_model = grid.best_estimator_\n",
    "    y_pred = best_model.predict(X_test)\n",
    "    y_proba = best_model.predict_proba(X_test)[:, 1]\n",
    "    \n",
    "    results[name] = {\n",
    "        \"best_params\": grid.best_params_,\n",
    "        \"classification_report\": classification_report(y_test, y_pred, output_dict=True),\n",
    "        \"roc_auc\": roc_auc_score(y_test, y_proba)\n",
    "    }\n",
    "    \n",
    "    # Save trained model\n",
    "    os.makedirs(\"models\", exist_ok=True)\n",
    "    joblib.dump(best_model, f\"models/log_reg_{name.lower()}.pkl\")\n",
    "\n",
    "# ========================================================\n",
    "# 5. Save Results\n",
    "# ========================================================\n",
    "results_df = pd.DataFrame({\n",
    "    model: {\n",
    "        \"Best Params\": results[model][\"best_params\"],\n",
    "        \"ROC-AUC\": results[model][\"roc_auc\"],\n",
    "        \"F1-Score\": results[model][\"classification_report\"][\"1\"][\"f1-score\"]\n",
    "    }\n",
    "    for model in results\n",
    "}).T\n",
    "\n",
    "results_df.to_csv(\"logistic_regression_results.csv\", index=True)\n",
    "\n",
    "print(\"\\n✅ Final Results:\")\n",
    "print(results_df)\n"
   ]
  },
  {
   "cell_type": "code",
   "execution_count": 1,
   "id": "0c76aa0c-c77d-4dee-8e56-7af3e2aad9df",
   "metadata": {},
   "outputs": [
    {
     "name": "stdout",
     "output_type": "stream",
     "text": [
      "(10, 2)\n",
      "   Hours_Studied  Score\n",
      "0              1     10\n",
      "1              2     25\n",
      "2              3     35\n",
      "3              4     50\n",
      "4              5     65\n"
     ]
    }
   ],
   "source": [
    "import pandas as pd\n",
    "\n",
    "# Load dataset\n",
    "df = pd.read_csv(\"student_scores_v1.csv\")\n",
    "\n",
    "# Quick check\n",
    "print(df.shape)\n",
    "print(df.head())"
   ]
  },
  {
   "cell_type": "code",
   "execution_count": 3,
   "id": "e687a6bb-ac94-4f0e-af20-ac6cdb525842",
   "metadata": {},
   "outputs": [
    {
     "name": "stdout",
     "output_type": "stream",
     "text": [
      "Dataset Shape: (10, 2)\n",
      "   Hours_Studied  Score\n",
      "0              1     10\n",
      "1              2     25\n",
      "2              3     35\n",
      "3              4     50\n",
      "4              5     65\n",
      "\n",
      "✅ Model Evaluation\n",
      "Mean Squared Error: 0.6272\n",
      "R2 Score: 0.9995\n",
      "\n",
      "✅ Model and results saved!\n"
     ]
    }
   ],
   "source": [
    "# ========================================================\n",
    "# 1. Import Libraries\n",
    "# ========================================================\n",
    "import pandas as pd\n",
    "import numpy as np\n",
    "from sklearn.model_selection import train_test_split\n",
    "from sklearn.preprocessing import PolynomialFeatures\n",
    "from sklearn.linear_model import LinearRegression\n",
    "from sklearn.metrics import mean_squared_error, r2_score\n",
    "import joblib\n",
    "import os\n",
    "\n",
    "# ========================================================\n",
    "# 2. Dataset (Already Loaded)\n",
    "# ========================================================\n",
    "# Assuming your dataset is loaded as df\n",
    "# df = pd.read_csv(\"student_scores_v1.csv\")\n",
    "\n",
    "print(\"Dataset Shape:\", df.shape)\n",
    "print(df.head())\n",
    "\n",
    "# Separate features & target\n",
    "X = df.drop(\"Score\", axis=1)   # feature(s), adjust column name if needed\n",
    "y = df[\"Score\"]                # target\n",
    "\n",
    "# Train/Test Split\n",
    "X_train, X_test, y_train, y_test = train_test_split(\n",
    "    X, y, test_size=0.2, random_state=42\n",
    ")\n",
    "\n",
    "# ========================================================\n",
    "# 3. Polynomial Regression\n",
    "# ========================================================\n",
    "\n",
    "# Polynomial transformation (degree=2, can try 3)\n",
    "poly = PolynomialFeatures(degree=2, include_bias=False)\n",
    "X_train_poly = poly.fit_transform(X_train)\n",
    "X_test_poly = poly.transform(X_test)\n",
    "\n",
    "# Train Linear Regression on transformed features\n",
    "poly_model = LinearRegression()\n",
    "poly_model.fit(X_train_poly, y_train)\n",
    "\n",
    "# Predictions\n",
    "y_pred = poly_model.predict(X_test_poly)\n",
    "\n",
    "# ========================================================\n",
    "# 4. Evaluation\n",
    "# ========================================================\n",
    "mse = mean_squared_error(y_test, y_pred)\n",
    "r2 = r2_score(y_test, y_pred)\n",
    "\n",
    "print(\"\\n✅ Model Evaluation\")\n",
    "print(f\"Mean Squared Error: {mse:.4f}\")\n",
    "print(f\"R2 Score: {r2:.4f}\")\n",
    "\n",
    "# ========================================================\n",
    "# 5. MLOps Practices: Save Model + Preprocessor\n",
    "# ========================================================\n",
    "os.makedirs(\"models\", exist_ok=True)\n",
    "\n",
    "joblib.dump(poly, \"models/poly_transformer.pkl\")\n",
    "joblib.dump(poly_model, \"models/polynomial_regression.pkl\")\n",
    "\n",
    "# Save metrics for tracking\n",
    "results = {\n",
    "    \"model\": \"Polynomial Regression\",\n",
    "    \"degree\": 2,\n",
    "    \"mse\": mse,\n",
    "    \"r2\": r2\n",
    "}\n",
    "results_df = pd.DataFrame([results])\n",
    "results_df.to_csv(\"polynomial_regression_results.csv\", index=False)\n",
    "\n",
    "print(\"\\n✅ Model and results saved!\")\n"
   ]
  },
  {
   "cell_type": "code",
   "execution_count": null,
   "id": "a4c64e85-8f80-4255-82f1-edf3325b7c6f",
   "metadata": {},
   "outputs": [],
   "source": []
  }
 ],
 "metadata": {
  "kernelspec": {
   "display_name": "Python 3 (ipykernel)",
   "language": "python",
   "name": "python3"
  },
  "language_info": {
   "codemirror_mode": {
    "name": "ipython",
    "version": 3
   },
   "file_extension": ".py",
   "mimetype": "text/x-python",
   "name": "python",
   "nbconvert_exporter": "python",
   "pygments_lexer": "ipython3",
   "version": "3.11.8"
  }
 },
 "nbformat": 4,
 "nbformat_minor": 5
}
